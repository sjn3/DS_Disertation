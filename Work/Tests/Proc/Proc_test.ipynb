{
 "cells": [
  {
   "cell_type": "code",
   "execution_count": 104,
   "metadata": {},
   "outputs": [],
   "source": [
    "import pandas as pd\n",
    "import numpy as np\n",
    "import string as st\n",
    "import random\n",
    "\n",
    "import time"
   ]
  },
  {
   "cell_type": "code",
   "execution_count": 53,
   "metadata": {},
   "outputs": [],
   "source": [
    "def string_cr(lenth, values=list(st.ascii_lowercase)):\n",
    "    i = 0\n",
    "    output = ''\n",
    "    while i< lenth:\n",
    "        output += str(random.choice(values))\n",
    "        i+=1\n",
    "    return output"
   ]
  },
  {
   "cell_type": "code",
   "execution_count": 77,
   "metadata": {},
   "outputs": [],
   "source": [
    "def reverser(input_str):\n",
    "    return input_str[::-1]\n",
    "\n",
    "def rev_list(lenth_lst, lenth_str, characters=None):\n",
    "    if characters != None:\n",
    "        output = pd.DataFrame(np.full((lenth_lst,1),lenth_str), columns=['lenths'])\n",
    "        output['org_strings'] = list(map(lambda x: string_cr(x, values=list(characters)), output.lenths))\n",
    "        output['rev_strings'] = list(map(reverser, output.org_strings))\n",
    "        output = output.drop(columns=['lenths'])\n",
    "    else:\n",
    "        output = pd.DataFrame(np.full((lenth_lst,1),lenth_str), columns=['lenths'])\n",
    "        output['org_strings'] = list(map(string_cr, output.lenths))\n",
    "        output['rev_strings'] = list(map(reverser, output.org_strings))\n",
    "        output = output.drop(columns=['lenths'])\n",
    "    return output\n",
    "        "
   ]
  },
  {
   "cell_type": "code",
   "execution_count": 93,
   "metadata": {},
   "outputs": [],
   "source": [
    "def inOut(input_str):\n",
    "    half = int(np.ceil(len(a)/2))\n",
    "    first = input_str[:half]\n",
    "    sec = input_str[half:]\n",
    "    return (first[::-1] + sec[::-1])\n",
    "\n",
    "def inOut_list(lenth_lst, lenth_str, characters=None):\n",
    "    if characters != None:\n",
    "        output = pd.DataFrame(np.full((lenth_lst,1),lenth_str), columns=['lenths'])\n",
    "        output['org_strings'] = list(map(lambda x: string_cr(x, values=list(characters)), output.lenths))\n",
    "        output['rev_strings'] = list(map(inOut, output.org_strings))\n",
    "        output = output.drop(columns=['lenths'])\n",
    "    else:\n",
    "        output = pd.DataFrame(np.full((lenth_lst,1),lenth_str), columns=['lenths'])\n",
    "        output['org_strings'] = list(map(string_cr, output.lenths))\n",
    "        output['rev_strings'] = list(map(inOut, output.org_strings))\n",
    "        output = output.drop(columns=['lenths'])\n",
    "    return output\n",
    "        "
   ]
  },
  {
   "cell_type": "code",
   "execution_count": 115,
   "metadata": {},
   "outputs": [],
   "source": [
    "def invert(input_string, characters = list(st.ascii_lowercase)):\n",
    "    indexes = [characters.index(i) for i in input_string]\n",
    "    char_inv = characters[::-1]\n",
    "    char_op = list(map(lambda x: char_inv[x], indexes ))\n",
    "    return ''.join(char_op)\n",
    "    \n",
    "    \n",
    "def inv_list(lenth_lst, lenth_str, characters=None):\n",
    "    if characters != None:\n",
    "        output = pd.DataFrame(np.full((lenth_lst,1),lenth_str), columns=['lenths'])\n",
    "        output['org_strings'] = list(map(lambda x: string_cr(x, values=list(characters)), output.lenths))\n",
    "        output['rev_strings'] = list(map(lambda x: invert(x, characters=list(characters)), output.org_strings))\n",
    "        output = output.drop(columns=['lenths'])\n",
    "    else:\n",
    "        output = pd.DataFrame(np.full((lenth_lst,1),lenth_str), columns=['lenths'])\n",
    "        output['org_strings'] = list(map(string_cr, output.lenths))\n",
    "        output['rev_strings'] = list(map(invert, output.org_strings))\n",
    "        output = output.drop(columns=['lenths'])\n",
    "    return output"
   ]
  },
  {
   "cell_type": "code",
   "execution_count": null,
   "metadata": {},
   "outputs": [],
   "source": []
  },
  {
   "cell_type": "code",
   "execution_count": null,
   "metadata": {},
   "outputs": [],
   "source": []
  },
  {
   "cell_type": "code",
   "execution_count": null,
   "metadata": {},
   "outputs": [],
   "source": []
  },
  {
   "cell_type": "code",
   "execution_count": null,
   "metadata": {},
   "outputs": [],
   "source": []
  },
  {
   "cell_type": "code",
   "execution_count": null,
   "metadata": {},
   "outputs": [],
   "source": []
  }
 ],
 "metadata": {
  "kernelspec": {
   "display_name": "Python 3",
   "language": "python",
   "name": "python3"
  },
  "language_info": {
   "codemirror_mode": {
    "name": "ipython",
    "version": 3
   },
   "file_extension": ".py",
   "mimetype": "text/x-python",
   "name": "python",
   "nbconvert_exporter": "python",
   "pygments_lexer": "ipython3",
   "version": "3.8.5"
  }
 },
 "nbformat": 4,
 "nbformat_minor": 4
}
