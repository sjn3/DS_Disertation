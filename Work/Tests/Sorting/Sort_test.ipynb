{
 "cells": [
  {
   "cell_type": "markdown",
   "metadata": {},
   "source": [
    "# The sorting test\n",
    "\n",
    "In this test, I will generate a list of values that the model has to sort. I hope to provide a means of generating different distribution of lists, randomise the numbers and then sort the list"
   ]
  },
  {
   "cell_type": "code",
   "execution_count": 1,
   "metadata": {},
   "outputs": [],
   "source": [
    "import pandas as pd\n",
    "import numpy as np\n",
    "from scipy.stats import truncnorm, truncexpon\n"
   ]
  },
  {
   "cell_type": "code",
   "execution_count": 2,
   "metadata": {},
   "outputs": [],
   "source": [
    "# First will generate a linear list function that will put the values into a dataframe for indexing\n",
    "\n",
    "def lin_list(stop, start=0, step=1):\n",
    "    \"\"\"\n",
    "    This function will give a linear list of values in a dataframe with index values.\n",
    "    Inputs are: stop, start=0, step=1\n",
    "    \"\"\"\n",
    "    values = np.arange(start, stop+step, step, np.float)\n",
    "    return pd.DataFrame(values, columns=['lin_values'])"
   ]
  },
  {
   "cell_type": "code",
   "execution_count": 37,
   "metadata": {},
   "outputs": [],
   "source": [
    "def norm_list(location, num_points, a_shape=-5, b_shape=5, not_int=False):\n",
    "    \"\"\"\n",
    "    This function will give a normal/gauss distribution of numbers\n",
    "    \"\"\"\n",
    "    values = truncnorm(a=a_shape, b=b_shape, loc=location, scale=location/3.33).rvs(size=num_points)\n",
    "    \n",
    "    if num_points <= 700 or not_int:\n",
    "        print('Due to smaller number of points the output will not be in intergers')\n",
    "        return pd.DataFrame(values, columns=['norm_values'])\n",
    "    \n",
    "    values = np.rint(values).astype(int)\n",
    "    return pd.DataFrame(values, columns=['norm_values'])"
   ]
  },
  {
   "cell_type": "code",
   "execution_count": 33,
   "metadata": {},
   "outputs": [],
   "source": [
    "def exp_list(shape, num_points, start=0, stop = 50, not_int=False):\n",
    "    \"\"\"\n",
    "    This function will give an exponential distribution of numbers\n",
    "    \"\"\"\n",
    "    num_points = int(num_points)\n",
    "    values = truncexpon(b=shape, loc=start, scale=1).rvs(size = num_points)\n",
    "    \n",
    "    if (stop >= 50) and not(not_int):\n",
    "        new_scale = stop/np.max(values)\n",
    "        values = truncexpon(b=shape, loc=start, scale = new_scale).rvs(size = num_points)\n",
    "    else:\n",
    "        print('Due to smaller range the output will not be in intergers')\n",
    "        new_scale = stop/np.max(values)\n",
    "        values = truncexpon(b=shape, loc=start, scale = new_scale).rvs(size = num_points)\n",
    "        return pd.DataFrame(values, columns=['exp_values'])\n",
    "    \n",
    "    values = np.rint(values).astype(int)\n",
    "    \n",
    "    return pd.DataFrame(values, columns=['exp_values'])\n"
   ]
  },
  {
   "cell_type": "code",
   "execution_count": null,
   "metadata": {},
   "outputs": [],
   "source": []
  },
  {
   "cell_type": "code",
   "execution_count": null,
   "metadata": {},
   "outputs": [],
   "source": []
  },
  {
   "cell_type": "code",
   "execution_count": null,
   "metadata": {},
   "outputs": [],
   "source": []
  },
  {
   "cell_type": "code",
   "execution_count": null,
   "metadata": {},
   "outputs": [],
   "source": []
  },
  {
   "cell_type": "code",
   "execution_count": null,
   "metadata": {},
   "outputs": [],
   "source": []
  },
  {
   "cell_type": "code",
   "execution_count": null,
   "metadata": {},
   "outputs": [],
   "source": []
  },
  {
   "cell_type": "code",
   "execution_count": null,
   "metadata": {},
   "outputs": [],
   "source": []
  },
  {
   "cell_type": "code",
   "execution_count": 50,
   "metadata": {},
   "outputs": [],
   "source": []
  },
  {
   "cell_type": "code",
   "execution_count": null,
   "metadata": {},
   "outputs": [],
   "source": []
  },
  {
   "cell_type": "code",
   "execution_count": null,
   "metadata": {},
   "outputs": [],
   "source": []
  }
 ],
 "metadata": {
  "kernelspec": {
   "display_name": "Python 3",
   "language": "python",
   "name": "python3"
  },
  "language_info": {
   "codemirror_mode": {
    "name": "ipython",
    "version": 3
   },
   "file_extension": ".py",
   "mimetype": "text/x-python",
   "name": "python",
   "nbconvert_exporter": "python",
   "pygments_lexer": "ipython3",
   "version": "3.8.5"
  }
 },
 "nbformat": 4,
 "nbformat_minor": 4
}
